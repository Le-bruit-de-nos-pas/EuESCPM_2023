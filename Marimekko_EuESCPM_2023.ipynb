{
  "cells": [
    {
      "cell_type": "code",
      "execution_count": null,
      "metadata": {
        "id": "IKXY7CNSJM3d"
      },
      "outputs": [],
      "source": [
        "import numpy as np\n",
        "import pandas as pd\n",
        "import plotly.graph_objects as go\n",
        "import matplotlib.pyplot as plt\n",
        "import seaborn as sns\n",
        "from plotly.subplots import make_subplots\n",
        "import math"
      ]
    },
    {
      "cell_type": "code",
      "execution_count": null,
      "metadata": {
        "id": "C5oB9SARJOfl"
      },
      "outputs": [],
      "source": [
        "def stacked_bar_width_plot(df, value_cols, width_col, colors=None, **subplot):\n",
        "    \"\"\"A stacked column plot with variable bar width.\n",
        "       :param df\n",
        "       :param list value_cols: columns of `df`, already normalized (sum=1 for every line).\n",
        "       :param str width_col: column of `df`, unbounded, used (i) as label (ii) to compute width.\n",
        "       :param dict subplot: optional figure/row/col\n",
        "    \"\"\"\n",
        "    categories = df.index.to_list()\n",
        "    width = df[width_col]\n",
        "    htmpl = width_col + ': %{customdata}, %{y}'\n",
        "    x = np.cumsum([0] + list(width[:-1]))\n",
        "    #colors = [\"#476c8a\", \"#49657b\", \"#7f8e9e\"] # or [None, ] * len(value_cols) # Table 1\n",
        "    #colors = [\"#F8B195\", \"#F67280\", \"#6C5B7B\", \"#355C7D\"] # or [None, ] * len(value_cols)   # Table 2\n",
        "    #colors = [\"#2C3E50\", \"#0081AF\", \"#00ABE7\", \"#2DC7FF\", \"#EAD2AC\", \"#EABA6B\", \"#B5754A\"] # or [None, ] * len(value_cols)   # Table 3\n",
        "    #colors = [\"#F8B195\", \"#F67280\", \"#6C5B7B\", \"#355C7D\", \"#912F40\", \"#702632\"] # or [None, ] * len(value_cols)   # Table S4\n",
        "    #colors = [\"#F8B195\", \"#F67280\", \"#6C5B7B\", \"#355C7D\"] # or [None, ] * len(value_cols)   # Table S6\n",
        "    colors = [\"#2C3E50\", \"#0081AF\", \"#00ABE7\", \"#2DC7FF\", \"#EAD2AC\", \"#EABA6B\", \"#B5754A\"] # or [None, ] * len(value_cols)   # Table S3\n",
        "\n",
        "\n",
        "\n",
        "    figure = subplot.pop('figure', go.Figure())\n",
        "    for colname, color in zip(value_cols, colors):\n",
        "        figure.add_trace(go.Bar(name=colname, x=x, y=df[colname], text=round(100*df[colname],1), width=width, hovertemplate=htmpl, customdata=width, offset=0, marker_color=color), **subplot)\n",
        "        figure.update_layout(autosize=False, width=1400, height=800)\n",
        "    return figure.update_xaxes(\n",
        "        tickvals=x + np.array(width) / 2,\n",
        "        ticktext=categories,\n",
        "        range=[0, np.sum(width)], **subplot\n",
        "    ) \\\n",
        "        .update_yaxes(tickformat=',.0%', range=[0, 1], row=subplot.get('row'), col=subplot.get('col')) \\\n",
        "        .update_layout(barmode='stack', bargap=0)"
      ]
    },
    {
      "cell_type": "code",
      "execution_count": null,
      "metadata": {
        "id": "fbKbSt4jJStd"
      },
      "outputs": [],
      "source": [
        "\n",
        "def mekko_plot(df, unit_name=None, colors=None, **subplot):\n",
        "    \"\"\"A mekko plot is a normalized stacked column plot with variable bar width.\n",
        "\n",
        "       :param DataFrame df: already indexed by category, with only numeric columns:\n",
        "                   there will be one stacked-bar per line (X), labeled after the index, with one bar per column.\n",
        "       :param str unit_name: used to populate hover.\n",
        "       :param list colors: color of each column. None for default palette (blue, red, ...).\n",
        "       The rest (title..) is easily added afterwards.\n",
        "    \"\"\"\n",
        "    # Normalize then defer to stacked_bar_width_plot plot.\n",
        "    value_cols = df.columns\n",
        "    w = pd.DataFrame({unit_name: df.sum(axis='columns')})\n",
        "    w[value_cols] = df.div(w[unit_name], axis='index')\n",
        "\n",
        "    return stacked_bar_width_plot(w, value_cols, width_col=unit_name, colors=colors, **subplot)\n"
      ]
    },
    {
      "cell_type": "code",
      "execution_count": null,
      "metadata": {
        "colab": {
          "base_uri": "https://localhost:8080/",
          "height": 517
        },
        "id": "KDCueiBjNCFM",
        "outputId": "f2a66f9a-687a-49c0-c711-64cc522f4af9"
      },
      "outputs": [],
      "source": [
        "# Table 1\n",
        "df = pd.DataFrame(dict(ESCPM_species=['Enterobacter cloacae complex','Klebsiella aerogenes','Enterobacter non-cloacae complex','Serratia marcescens',\n",
        "                                      'Citrobacter freundii complex','Providencia species','Morganella morganii'],\n",
        "                       Year_2020=[926, 296, 57 , 452 , 126, 53, 170],\n",
        "                       Year_2021=[1062 , 307 , 51 , 582 , 133 , 55 , 212],\n",
        "                       Year_2022=[1048 , 295 , 55,  503 , 146 , 63, 182 ]\n",
        "                       )).set_index('ESCPM_species')\n",
        "\n",
        "#display(df)\n",
        "\n",
        "mekko_plot(df, unit_name='some_label')"
      ]
    },
    {
      "cell_type": "code",
      "execution_count": null,
      "metadata": {
        "colab": {
          "base_uri": "https://localhost:8080/",
          "height": 617
        },
        "id": "KT14MpppJWts",
        "outputId": "e348a5ee-46bc-42dd-8ef6-abd42c833b98"
      },
      "outputs": [],
      "source": [
        "# Table 2\n",
        "df = pd.DataFrame(dict(ESCPM_species=['Enterobacter cloacae complex','Klebsiella aerogenes','Enterobacter non-cloacae complex','Serratia marcescens',\n",
        "                                      'Citrobacter freundii complex','Providencia species','Morganella morganii'],\n",
        "                       Emergency=[480, 142, 23 , 197 , 114, 40, 176],\n",
        "                       Medical_ward=[1260 , 294 , 72 , 490 , 154 , 47 , 201],\n",
        "                       Surgical_ward=[457 , 131 , 18,  229 , 72 , 8, 74 ],\n",
        "                       ICU=[839 , 331, 50 , 621 , 65, 76 , 113]\n",
        "                       )).set_index('ESCPM_species')\n",
        "\n",
        "#display(df)\n",
        "\n",
        "mekko_plot(df, unit_name='some_label')"
      ]
    },
    {
      "cell_type": "code",
      "execution_count": null,
      "metadata": {
        "colab": {
          "base_uri": "https://localhost:8080/",
          "height": 837
        },
        "id": "ouO_EI_tjrIS",
        "outputId": "e593f3e6-a58b-45c3-b3cd-193e1a70d6c4"
      },
      "outputs": [],
      "source": [
        "# Table 3\n",
        "df = pd.DataFrame(dict(ESCPM_species=['3rd generation cephalosporins-susceptible','3rd generation cephalosporins-resistant','3rd-4th generation cephalosporins-resistant','Carbapenem-resistant',\n",
        "                                      'ESBL-producers','AmpC-overproducers','Carbapenemase-producers'],\n",
        "                       Enterobacter_cloacae_complex=[1955, 459, 225 , 389 , 297, 318, 104],\n",
        "                       Klebsiella_aerogenes=[497 , 267 , 31 , 100 , 24 , 176 , 21],\n",
        "                       Enterobacter_non_cloacae_complex=[109 , 25 , 9,  20 , 7 ,20, 2 ],\n",
        "                       Serratia_marcescens=[1356 , 124, 28 , 24 , 25, 43 , 16],\n",
        "                       Citrobacter_freundii_complex=[294 , 83, 11 , 16 , 12, 38 , 10],\n",
        "                       Providencia_species=[79 , 17, 2 , 73 , 4, 8 , 50],\n",
        "                       Morganella_morganii=[450 , 84, 6 , 21 , 5, 38 , 2]\n",
        "                       )).set_index('ESCPM_species')\n",
        "\n",
        "#display(df)\n",
        "\n",
        "mekko_plot(df, unit_name='some_label')"
      ]
    },
    {
      "cell_type": "code",
      "execution_count": null,
      "metadata": {
        "colab": {
          "base_uri": "https://localhost:8080/",
          "height": 717
        },
        "id": "iVOz7IE2vKYq",
        "outputId": "0a4f5ed5-3db0-4e98-e53e-44c95858f2d6"
      },
      "outputs": [],
      "source": [
        "# Table S4\n",
        "df = pd.DataFrame(dict(ESCPM_species=['Enterobacter cloacae complex','Klebsiella aerogenes','Enterobacter non-cloacae complex','Serratia marcescens',\n",
        "                                      'Citrobacter freundii complex','Providencia species','Morganella morganii'],\n",
        "                       Emergency=[238, 77, 9 , 101 , 49, 26, 100],\n",
        "                       Medical_ward=[585 , 169 , 38 , 267 , 58 , 29 , 104],\n",
        "                       Surgical_ward=[160 , 70 , 5,  126 , 12 , 4, 30 ],\n",
        "                       ICU=[380 , 174, 26 , 403 , 25, 61 , 61],\n",
        "                       COVID19_ICD=[53 , 43, 1 , 41 , 5, 10 , 5],\n",
        "                       COVID19_Ward=[47 , 12, 3 , 29 , 2, 3 , 15]\n",
        "                       )).set_index('ESCPM_species')\n",
        "\n",
        "#display(df)\n",
        "\n",
        "mekko_plot(df, unit_name='some_label')"
      ]
    },
    {
      "cell_type": "code",
      "execution_count": null,
      "metadata": {
        "colab": {
          "base_uri": "https://localhost:8080/",
          "height": 617
        },
        "id": "OPdQOusrxG1j",
        "outputId": "439649c6-360f-41bc-9e14-411fd3427e54"
      },
      "outputs": [],
      "source": [
        "# Table S6\n",
        "df = pd.DataFrame(dict(ESCPM_species=['3rd generation cephalosporins-susceptible','3rd generation cephalosporins-resistant','3rd-4th generation cephalosporins-resistant','Carbapenem-resistant',\n",
        "                                      'ESBL-producers','AmpC-overproducers','Carbapenemase-producers'],\n",
        "                       Emergency=[909, 152, 35 , 72 , 45, 91, 10],\n",
        "                       Medical_ward=[1767 , 373 , 132 , 238 , 158 , 243 , 71],\n",
        "                       Surgical_ward=[665 , 190 , 49,  81 , 57 , 85, 27 ],\n",
        "                       ICU=[1399 , 344, 96 , 252 , 114, 222 , 97]\n",
        "                       )).set_index('ESCPM_species')\n",
        "\n",
        "#display(df)\n",
        "\n",
        "mekko_plot(df, unit_name='some_label')"
      ]
    },
    {
      "cell_type": "code",
      "execution_count": null,
      "metadata": {
        "colab": {
          "base_uri": "https://localhost:8080/",
          "height": 817
        },
        "id": "h46Z253jJaV9",
        "outputId": "e181bc28-a61e-42e1-88fa-3186ab37c171"
      },
      "outputs": [],
      "source": [
        "# Table S3\n",
        "df = pd.DataFrame(dict(Country=['Portugal', 'Spain', 'France', 'The Netherlands', 'Denmark', 'Germany', 'Hungary', 'Switzerland', 'Italy',\n",
        "                                'Croatia', 'Greece', 'Turkey', 'Romania', 'Poland'],\n",
        "                       Enterobacter_cloacae_complex=[250, 555, 919 , 115 , 105, 153, 150, 93, 290, 127, 116, 27, 49, 87],\n",
        "                       Klebsiella_aerogenes=[123 , 183 , 222 , 18 , 17 , 35 , 34, 32, 133, 32, 45, 2, 11, 11],\n",
        "                       Enterobacter_non_cloacae_complex=[29 , 42 , 25,  4 , 0 ,2, 1, 3, 11, 25, 2, 9, 2 ,8 ],\n",
        "                       Serratia_marcescens=[323 , 288, 255 , 54 , 36, 92 , 61,47, 172, 92,45,16, 23, 33],\n",
        "                       Citrobacter_freundii_complex=[28 , 68, 128 , 30 , 28, 18 , 13, 26, 28, 21, 2, 3, 1, 11],\n",
        "                       Providencia_species=[24 , 9, 15 , 1 , 1, 5 , 1, 6, 11, 21, 22, 1 , 53, 1],\n",
        "                       Morganella_morganii=[97 , 115, 154 , 12 , 1, 31 , 31 , 14, 43, 27, 21, 3, 4, 11 ]\n",
        "                       )).set_index('Country')\n",
        "\n",
        "#display(df)\n",
        "\n",
        "mekko_plot(df, unit_name='some_label')"
      ]
    },
    {
      "cell_type": "code",
      "execution_count": null,
      "metadata": {
        "colab": {
          "base_uri": "https://localhost:8080/",
          "height": 1000
        },
        "id": "SPV4ft-tvqwD",
        "outputId": "2cb0a072-24ea-4460-e744-5109507aecfb"
      },
      "outputs": [],
      "source": [
        "# table S7\n",
        "df= pd.read_csv('S7.csv')\n",
        "display(df)\n",
        "\n",
        "\n"
      ]
    },
    {
      "cell_type": "code",
      "execution_count": null,
      "metadata": {
        "colab": {
          "base_uri": "https://localhost:8080/",
          "height": 976
        },
        "id": "J4PO-vLME0RL",
        "outputId": "f48e91aa-a418-40aa-dc3f-dd7642c5cc5b"
      },
      "outputs": [],
      "source": [
        "custom_params = {\"axes.spines.right\": False, \"axes.spines.top\": False, 'figure.dpi': 200}\n",
        "sns.set_theme(style='ticks', rc=custom_params, font_scale=0.5)\n",
        "fig, ax = plt.subplots(figsize=(7, 4))\n",
        "sns.barplot(x='Country', y='Resistance (%)', data=df, ax=ax, errorbar=None, palette=\"mako\", alpha=.8,  hue='Type')\n",
        "ax.legend(bbox_to_anchor=(.5, 1), title='')\n",
        "ax.set_xticklabels(ax.get_xticklabels(), rotation=90)\n",
        "for i in ax.containers:\n",
        "    ax.bar_label(i,)"
      ]
    },
    {
      "cell_type": "code",
      "execution_count": null,
      "metadata": {
        "id": "bVAinFkx8ikE"
      },
      "outputs": [],
      "source": []
    },
    {
      "cell_type": "code",
      "execution_count": null,
      "metadata": {
        "id": "TMR6hRF_8ima"
      },
      "outputs": [],
      "source": []
    },
    {
      "cell_type": "code",
      "execution_count": null,
      "metadata": {
        "id": "bgK-zpCE8iox"
      },
      "outputs": [],
      "source": []
    },
    {
      "cell_type": "code",
      "execution_count": null,
      "metadata": {
        "id": "WBgyOMsLoZJp"
      },
      "outputs": [],
      "source": [
        "# Table 4\n",
        "\n",
        "Susceptibility_1 = [\n",
        "    {\"name\": \"FEP\", \"value\": 0},\n",
        "    {\"name\": \"TZP\", \"value\": 98.1},\n",
        "    {\"name\": \"C/T\", \"value\": 99.6},\n",
        "    {\"name\": \"CZA\", \"value\": 100},\n",
        "    {\"name\": \"CARB\", \"value\": 0},\n",
        "    {\"name\": \"CL\", \"value\": 93.4},\n",
        "    {\"name\": \"FF\", \"value\": 75.8},\n",
        "    {\"name\": \"AM\", \"value\": 98},\n",
        "    {\"name\": \"FQ\", \"value\": 95.8},\n",
        "    {\"name\": \"SMX/TMP\", \"value\": 93.7}\n",
        "]\n",
        "\n",
        "\n",
        "Susceptibility_2 = [\n",
        "    {\"name\": \"FEP\", \"value\": 0},\n",
        "    {\"name\": \"TZP\", \"value\": 29.8},\n",
        "    {\"name\": \"C/T\", \"value\": 67.6},\n",
        "    {\"name\": \"CZA\", \"value\": 98.2},\n",
        "    {\"name\": \"CARB\", \"value\": 0},\n",
        "    {\"name\": \"CL\", \"value\": 90.3},\n",
        "    {\"name\": \"FF\", \"value\": 71.1},\n",
        "    {\"name\": \"AM\", \"value\": 89.6},\n",
        "    {\"name\": \"FQ\", \"value\": 87.1},\n",
        "    {\"name\": \"SMX/TMP\", \"value\": 84.9}\n",
        "]\n",
        "\n",
        "\n",
        "Susceptibility_3 = [\n",
        "    {\"name\": \"FEP\", \"value\": 0},\n",
        "    {\"name\": \"TZP\", \"value\": 31.7},\n",
        "    {\"name\": \"C/T\", \"value\": 66},\n",
        "    {\"name\": \"CZA\", \"value\": 95.7},\n",
        "    {\"name\": \"CARB\", \"value\": 0},\n",
        "    {\"name\": \"CL\", \"value\": 90.7},\n",
        "    {\"name\": \"FF\", \"value\": 77.7},\n",
        "    {\"name\": \"AM\", \"value\": 44.3},\n",
        "    {\"name\": \"FQ\", \"value\": 32.9},\n",
        "    {\"name\": \"SMX/TMP\", \"value\": 36.4}\n",
        "]\n",
        "\n",
        "\n",
        "Susceptibility_4 = [\n",
        "    {\"name\": \"FEP\", \"value\": 48.8},\n",
        "    {\"name\": \"TZP\", \"value\": 10.4},\n",
        "    {\"name\": \"C/T\", \"value\": 15.4},\n",
        "    {\"name\": \"CZA\", \"value\": 66},\n",
        "    {\"name\": \"CARB\", \"value\": 0},\n",
        "    {\"name\": \"CL\", \"value\": 85.8},\n",
        "    {\"name\": \"FF\", \"value\": 65.4},\n",
        "    {\"name\": \"AM\", \"value\": 65.8},\n",
        "    {\"name\": \"FQ\", \"value\": 53.8},\n",
        "    {\"name\": \"SMX/TMP\", \"value\": 53.2}\n",
        "]\n",
        "\n",
        "\n",
        "Susceptibility_5 = [\n",
        "    {\"name\": \"FEP\", \"value\": 20.9},\n",
        "    {\"name\": \"TZP\", \"value\": 32.2},\n",
        "    {\"name\": \"C/T\", \"value\": 58.3},\n",
        "    {\"name\": \"CZA\", \"value\": 94.3},\n",
        "    {\"name\": \"CARB\", \"value\": 79.2},\n",
        "    {\"name\": \"CL\", \"value\": 93},\n",
        "    {\"name\": \"FF\", \"value\": 77.3},\n",
        "    {\"name\": \"AM\", \"value\": 41},\n",
        "    {\"name\": \"FQ\", \"value\": 29.3},\n",
        "    {\"name\": \"SMX/TMP\", \"value\": 26.8}\n",
        "]\n",
        "\n",
        "\n",
        "Susceptibility_6 = [\n",
        "    {\"name\": \"FEP\", \"value\": 84.4},\n",
        "    {\"name\": \"TZP\", \"value\": 22.1},\n",
        "    {\"name\": \"C/T\", \"value\": 45.5},\n",
        "    {\"name\": \"CZA\", \"value\": 98.1},\n",
        "    {\"name\": \"CARB\", \"value\": 73.9},\n",
        "    {\"name\": \"CL\", \"value\": 93.8},\n",
        "    {\"name\": \"FF\", \"value\": 80.2},\n",
        "    {\"name\": \"AM\", \"value\": 89.9},\n",
        "    {\"name\": \"FQ\", \"value\": 86.7},\n",
        "    {\"name\": \"SMX/TMP\", \"value\": 88.1}\n",
        "]\n",
        "\n",
        "\n",
        "Susceptibility_7 = [\n",
        "    {\"name\": \"FEP\", \"value\": 20.6},\n",
        "    {\"name\": \"TZP\", \"value\": 1},\n",
        "    {\"name\": \"C/T\", \"value\": 10},\n",
        "    {\"name\": \"CZA\", \"value\": 43.7},\n",
        "    {\"name\": \"CARB\", \"value\": 6.3},\n",
        "    {\"name\": \"CL\", \"value\": 94.6},\n",
        "    {\"name\": \"FF\", \"value\": 69.7},\n",
        "    {\"name\": \"AM\", \"value\": 36.6},\n",
        "    {\"name\": \"FQ\", \"value\": 24.5},\n",
        "    {\"name\": \"SMX/TMP\", \"value\": 22.4}\n",
        "]\n"
      ]
    },
    {
      "cell_type": "code",
      "execution_count": null,
      "metadata": {
        "id": "Je3ZXK98vcb3"
      },
      "outputs": [],
      "source": [
        "def horizontal_bar_labels(categories):\n",
        "    subplots = make_subplots(\n",
        "        rows=len(categories),\n",
        "        cols=1,\n",
        "        subplot_titles=[x[\"name\"] for x in categories],\n",
        "        shared_xaxes=True,\n",
        "        print_grid=False,\n",
        "        vertical_spacing=(0.45 / len(categories)),\n",
        "    )\n",
        "    subplots['layout'].update(\n",
        "        width=550,\n",
        "        plot_bgcolor='#fff',\n",
        "    )\n",
        "\n",
        "    # add bars for the categories\n",
        "    for k, x in enumerate(categories):\n",
        "        subplots.add_trace(dict(\n",
        "            type='bar',\n",
        "            orientation='h',\n",
        "            y=[x[\"name\"]],\n",
        "            x=[x[\"value\"]],\n",
        "            text=[\"{:,.1f}\".format(x[\"value\"])],\n",
        "            hoverinfo='text',\n",
        "            textposition='auto',\n",
        "            marker=dict(\n",
        "                color=\"black\",\n",
        "            ),\n",
        "        ), k+1, 1)\n",
        "\n",
        "    # update the layout\n",
        "    subplots['layout'].update(\n",
        "        showlegend=False,\n",
        "    )\n",
        "    for x in subplots[\"layout\"]['annotations']:\n",
        "        x['x'] = 0\n",
        "        x['xanchor'] = 'left'\n",
        "        x['align'] = 'left'\n",
        "        x['font'] = dict(\n",
        "            size=12,\n",
        "        )\n",
        "\n",
        "    # hide the axes\n",
        "    for axis in subplots['layout']:\n",
        "        if axis.startswith('yaxis') or axis.startswith('xaxis'):\n",
        "            subplots['layout'][axis]['visible'] = False\n",
        "\n",
        "    # update the margins and size\n",
        "    subplots['layout']['margin'] = {\n",
        "        'l': 0,\n",
        "        'r': 0,\n",
        "        't': 20,\n",
        "        'b': 1,\n",
        "    }\n",
        "    height_calc = 20 * len(categories)\n",
        "    height_calc = max([height_calc, 350])\n",
        "    subplots['layout']['height'] = height_calc\n",
        "    subplots['layout']['width'] = height_calc\n",
        "\n",
        "    return subplots"
      ]
    },
    {
      "cell_type": "code",
      "execution_count": null,
      "metadata": {
        "colab": {
          "base_uri": "https://localhost:8080/",
          "height": 367
        },
        "id": "UoMRqegKxScw",
        "outputId": "fd457f99-818b-44a7-eecb-086e343bfa8c"
      },
      "outputs": [],
      "source": [
        "horizontal_bar_labels(Susceptibility_1)"
      ]
    },
    {
      "cell_type": "code",
      "execution_count": null,
      "metadata": {
        "colab": {
          "base_uri": "https://localhost:8080/",
          "height": 367
        },
        "id": "HuNUamhmxciO",
        "outputId": "369838a2-4756-4e29-8e4a-74dc086a718b"
      },
      "outputs": [],
      "source": [
        "horizontal_bar_labels(Susceptibility_2)"
      ]
    },
    {
      "cell_type": "code",
      "execution_count": null,
      "metadata": {
        "colab": {
          "base_uri": "https://localhost:8080/",
          "height": 367
        },
        "id": "QLtcKeUJxjGe",
        "outputId": "6829cbef-33d9-455c-bc36-523ada72bcd4"
      },
      "outputs": [],
      "source": [
        "horizontal_bar_labels(Susceptibility_3)"
      ]
    },
    {
      "cell_type": "code",
      "execution_count": null,
      "metadata": {
        "colab": {
          "base_uri": "https://localhost:8080/",
          "height": 367
        },
        "id": "I8sWvIr6xkSm",
        "outputId": "a965a7eb-cad3-40a9-bf83-d295c9d4b08d"
      },
      "outputs": [],
      "source": [
        "horizontal_bar_labels(Susceptibility_4)"
      ]
    },
    {
      "cell_type": "code",
      "execution_count": null,
      "metadata": {
        "colab": {
          "base_uri": "https://localhost:8080/",
          "height": 367
        },
        "id": "hkCO3onXxly-",
        "outputId": "0d67ff9f-e587-47ef-8e8b-fecb5681bd01"
      },
      "outputs": [],
      "source": [
        "horizontal_bar_labels(Susceptibility_5)"
      ]
    },
    {
      "cell_type": "code",
      "execution_count": null,
      "metadata": {
        "colab": {
          "base_uri": "https://localhost:8080/",
          "height": 367
        },
        "id": "pJmgJivrxnMe",
        "outputId": "1ce2fe1f-9ebb-4e1f-9fb6-e2e51eb51431"
      },
      "outputs": [],
      "source": [
        "horizontal_bar_labels(Susceptibility_6)"
      ]
    },
    {
      "cell_type": "code",
      "execution_count": null,
      "metadata": {
        "colab": {
          "base_uri": "https://localhost:8080/",
          "height": 367
        },
        "id": "H2SLl9iRxoc-",
        "outputId": "e4cbddf5-4c6d-412c-affe-2cad773fd1b7"
      },
      "outputs": [],
      "source": [
        "horizontal_bar_labels(Susceptibility_7)"
      ]
    },
    {
      "cell_type": "code",
      "execution_count": null,
      "metadata": {
        "colab": {
          "base_uri": "https://localhost:8080/",
          "height": 677
        },
        "id": "mEo9jCOaii0W",
        "outputId": "d1f5d68c-f60e-42f0-8fe4-5a17508804ee"
      },
      "outputs": [],
      "source": [
        "# Supplementary Figure S5 *** IGNORE ***\n",
        "\n",
        "df = pd.DataFrame(dict(Antibiotic=['Piperacillin/tazobactam EUCAST', 'Piperacillin/tazobactam CLSI', 'Cefoxitin', 'Cefotaxime EUCAST', 'Cefotaxime CLSI', 'Ceftriaxone', 'Ceftazidime EUCAST', 'Ceftazidime CLSI', 'Cefepime',\n",
        "                                   'Ceftolozane/tazobactam', 'Ceftazidime/avibactam EUCAST', 'Ertapenem',\n",
        "                                   'Imipenem', 'Meropenem', 'Tigecycline', 'Gentamycin', 'Amikacin', 'Ciprofloxacin', 'Levofloxacin', 'Sulfamethoxazole/trimethoprim'],\n",
        "                       Min=[6, 15, 6, 6, 19, 6, 6, 14, 6,6,6,6,6,6,6,6,6,6,6,6],\n",
        "                       Max=[40 , 24, 30, 37, 21, 41, 40, 24, 42, 40, 37, 40, 37, 40, 30, 45 , 30, 50, 43, 43],\n",
        "                       Median=[25 , 21, 6, 24, 20, 29, 26, 16, 32 , 24, 24, 30 , 28, 31, 19, 22, 22, 31, 30, 28],\n",
        "                       ))\n",
        "\n",
        "df = df.sort_values(by='Median', ascending=True).reset_index(drop=True)\n",
        "df.head()\n",
        "\n",
        "display(df)"
      ]
    },
    {
      "cell_type": "code",
      "execution_count": null,
      "metadata": {
        "colab": {
          "base_uri": "https://localhost:8080/",
          "height": 917
        },
        "id": "hToQkfkJjqhB",
        "outputId": "563e25b0-a20c-4927-f46d-c4dcc6644c18"
      },
      "outputs": [],
      "source": [
        "plt.style.use(\"seaborn-whitegrid\")  # set style because it looks nice\n",
        "fig, ax = plt.subplots(1, 1, figsize=(15, 10),)\n",
        "\n",
        "\n",
        "# color palette to choose from\n",
        "darkblue = \"#1f253f\"\n",
        "lightblue = \"#58849f\"\n",
        "redish = \"#d73027\"\n",
        "\n",
        "DOT_SIZE = 150\n",
        "\n",
        "# create the various dots\n",
        "# avg dot\n",
        "ax.scatter(\n",
        "    x=df[\"Median\"],\n",
        "    y=df[\"Antibiotic\"],\n",
        "    s=DOT_SIZE,\n",
        "    alpha=1,\n",
        "    label=\"Median\",\n",
        "    color=lightblue,\n",
        "    edgecolors=\"white\",\n",
        ")\n",
        "\n",
        "\n",
        "\n",
        "# min dot\n",
        "ax.scatter(\n",
        "    x=df[\"Min\"],\n",
        "    y=df[\"Antibiotic\"],\n",
        "    s=DOT_SIZE,\n",
        "    alpha=1,\n",
        "    color=darkblue,\n",
        "    label=\"Min/Max\",\n",
        "    edgecolors=\"white\",\n",
        ")\n",
        "\n",
        "# max dot\n",
        "ax.scatter(\n",
        "    x=df[\"Max\"],\n",
        "    y=df[\"Antibiotic\"],\n",
        "    s=DOT_SIZE,\n",
        "    alpha=1,\n",
        "    color=darkblue,\n",
        "    edgecolors=\"white\",\n",
        ")\n",
        "\n",
        "\n",
        "# create the horizontal line\n",
        "# between min and max vals\n",
        "ax.hlines(\n",
        "    y=df[\"Antibiotic\"],\n",
        "    xmin=df[\"Min\"],\n",
        "    xmax=df[\"Max\"],\n",
        "    color=\"grey\",\n",
        "    alpha=0.4,\n",
        "    lw=4, # line-width\n",
        "    zorder=0, # make sure line at back\n",
        ")\n",
        "\n",
        "x_min, x_max = ax.get_xlim()\n",
        "y_min, y_max = ax.get_ylim()\n",
        "\n",
        "\n",
        "ax.plot([0.023, 0.023], [y_min, y_max], linestyle=\"-\", color=\"white\", linewidth=14)\n",
        "ax.plot([0.023, 0.023], [y_min, y_max], linestyle=\"--\", color=redish, alpha=0.4)\n",
        "\n",
        "\n",
        "\n",
        "\n",
        "# dictionary used to map the column labels from df to a readable name\n",
        "\n",
        "\n",
        "# iterate through each result and apply the text\n",
        "# df should already be sorted\n",
        "for i in range(0, df.shape[0]):\n",
        "    # avg auc score\n",
        "    ax.text(\n",
        "        x=df[\"Median\"][i],\n",
        "        y=i + 0.15,\n",
        "        s=\"{:.0f}\".format(df[\"Median\"][i]),\n",
        "        horizontalalignment=\"center\",\n",
        "        verticalalignment=\"bottom\",\n",
        "        size=\"x-large\",\n",
        "        color=\"dimgrey\",\n",
        "        weight=\"medium\",\n",
        "    )\n",
        "\n",
        "    # min auc score\n",
        "    ax.text(\n",
        "        x=df[\"Min\"][i],\n",
        "        y=i - 0.05,\n",
        "        s=\"{:.0f}\".format(df[\"Min\"][i]),\n",
        "        horizontalalignment=\"right\",\n",
        "        verticalalignment=\"top\",\n",
        "        size=\"x-large\",\n",
        "        color=\"dimgrey\",\n",
        "        weight=\"medium\",\n",
        "    )\n",
        "\n",
        "    # max auc score\n",
        "    ax.text(\n",
        "        x=df[\"Max\"][i],\n",
        "        y=i - 0.05,\n",
        "        s=\"{:.0f}\".format(df[\"Max\"][i]),\n",
        "        horizontalalignment=\"left\",\n",
        "        verticalalignment=\"top\",\n",
        "        size=\"x-large\",\n",
        "        color=\"dimgrey\",\n",
        "        weight=\"medium\",\n",
        "    )\n",
        "\n",
        "    # add thin leading lines towards classifier names\n",
        "    # to the right of max dot\n",
        "    ax.plot(\n",
        "        [df[\"Max\"][i] + 0.02, 0.6],\n",
        "        [i, i],\n",
        "        linewidth=1,\n",
        "        color=\"grey\",\n",
        "        alpha=0.4,\n",
        "        zorder=0,\n",
        "    )\n",
        "\n",
        "    # to the left of min dot\n",
        "    ax.plot(\n",
        "        [-0.05, df[\"Min\"][i] - 0.02],\n",
        "        [i, i],\n",
        "        linewidth=1,\n",
        "        color=\"grey\",\n",
        "        alpha=0.4,\n",
        "        zorder=0,\n",
        "    )\n",
        "\n",
        "    # add classifier name text\n",
        "    clf_name = df[\"Antibiotic\"][i]\n",
        "    ax.text(\n",
        "        x=-2,\n",
        "        y=i,\n",
        "        s=clf_name,\n",
        "        horizontalalignment=\"right\",\n",
        "        verticalalignment=\"center\",\n",
        "        size=\"x-large\",\n",
        "        color=\"dimgrey\",\n",
        "        weight=\"normal\",\n",
        "    )\n",
        "\n",
        "\n",
        "\n",
        "# remove the y ticks\n",
        "ax.set_yticks([])\n",
        "\n",
        "# drop the gridlines (inherited from 'seaborn-whitegrid' style)\n",
        "# and drop all the spines\n",
        "ax.grid(False)\n",
        "ax.spines[\"top\"].set_visible(False)\n",
        "ax.spines[\"bottom\"].set_visible(False)\n",
        "ax.spines[\"right\"].set_visible(False)\n",
        "ax.spines[\"left\"].set_visible(False)\n",
        "\n",
        "\n",
        "\n",
        "# custom set the xticks since this looks better\n",
        "ax.set_xticks([0,5,10,15,20,25,30,35,40,45,50,55,60])\n",
        "\n",
        "# set properties of xtick labels\n",
        "# https://matplotlib.org/stable/api/_as_gen/matplotlib.axes.Axes.tick_params.html#matplotlib.axes.Axes.tick_params\n",
        "ax.tick_params(axis=\"x\", pad=20, labelsize=\"x-large\", labelcolor=\"dimgrey\")\n",
        "\n",
        "\n",
        "# create legend\n",
        "ax.legend(\n",
        "    frameon=False,\n",
        "    bbox_to_anchor=(0.6, 1.05),\n",
        "    ncol=2,\n",
        "    fontsize=\"x-large\",\n",
        "    labelcolor=\"dimgrey\",\n",
        ")\n",
        "\n",
        "# plt.savefig('best_results.svg',dpi=150, bbox_inches = \"tight\")\n",
        "plt.show()\n"
      ]
    },
    {
      "cell_type": "code",
      "execution_count": null,
      "metadata": {
        "id": "Abn1-d3tvBZL"
      },
      "outputs": [],
      "source": []
    }
  ],
  "metadata": {
    "colab": {
      "provenance": []
    },
    "kernelspec": {
      "display_name": "Python 3",
      "name": "python3"
    },
    "language_info": {
      "name": "python"
    }
  },
  "nbformat": 4,
  "nbformat_minor": 0
}
